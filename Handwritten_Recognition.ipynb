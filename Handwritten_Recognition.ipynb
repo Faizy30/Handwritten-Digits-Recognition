{
  "nbformat": 4,
  "nbformat_minor": 0,
  "metadata": {
    "colab": {
      "provenance": [],
      "authorship_tag": "ABX9TyNCnjabBSDwQ3nrDMDSn0pu",
      "include_colab_link": true
    },
    "kernelspec": {
      "name": "python3",
      "display_name": "Python 3"
    },
    "language_info": {
      "name": "python"
    },
    "accelerator": "GPU"
  },
  "cells": [
    {
      "cell_type": "markdown",
      "metadata": {
        "id": "view-in-github",
        "colab_type": "text"
      },
      "source": [
        "<a href=\"https://colab.research.google.com/github/Faizy30/Handwritten-Digits-Recognition/blob/main/Handwritten_Recognition.ipynb\" target=\"_parent\"><img src=\"https://colab.research.google.com/assets/colab-badge.svg\" alt=\"Open In Colab\"/></a>"
      ]
    },
    {
      "cell_type": "code",
      "source": [
        " #handwritten digits recongition\n",
        " #mnist datase from keras"
      ],
      "metadata": {
        "id": "gD8DdJTYTSoA"
      },
      "execution_count": 2,
      "outputs": []
    },
    {
      "cell_type": "code",
      "execution_count": 3,
      "metadata": {
        "id": "1wh-5k1xViU3"
      },
      "outputs": [],
      "source": [
        "import tensorflow as tf"
      ]
    },
    {
      "cell_type": "code",
      "source": [
        "(x_train, y_train), (x_test, y_test) = tf.keras.datasets.mnist.load_data(path=\"mnist.npz\")"
      ],
      "metadata": {
        "id": "RWsbMxTzyU02",
        "colab": {
          "base_uri": "https://localhost:8080/"
        },
        "outputId": "1e6d2b2f-116b-4d57-ce33-6db421c76b7f"
      },
      "execution_count": 4,
      "outputs": [
        {
          "output_type": "stream",
          "name": "stdout",
          "text": [
            "Downloading data from https://storage.googleapis.com/tensorflow/tf-keras-datasets/mnist.npz\n",
            "\u001b[1m11490434/11490434\u001b[0m \u001b[32m━━━━━━━━━━━━━━━━━━━━\u001b[0m\u001b[37m\u001b[0m \u001b[1m0s\u001b[0m 0us/step\n"
          ]
        }
      ]
    },
    {
      "cell_type": "code",
      "source": [
        "print(x_train.shape)\n",
        "print(x_test.shape)"
      ],
      "metadata": {
        "id": "L90cmDoSxSl-",
        "colab": {
          "base_uri": "https://localhost:8080/"
        },
        "outputId": "2850d8c7-cfe8-4b05-ef7c-02738e919d90"
      },
      "execution_count": 5,
      "outputs": [
        {
          "output_type": "stream",
          "name": "stdout",
          "text": [
            "(60000, 28, 28)\n",
            "(10000, 28, 28)\n"
          ]
        }
      ]
    },
    {
      "cell_type": "code",
      "source": [
        "import matplotlib.pyplot as plt\n",
        "i = 56000\n",
        "plt.imshow(x_train[i],cmap='gray')\n",
        "plt.show()"
      ],
      "metadata": {
        "id": "a-UQWNKUybzG",
        "colab": {
          "base_uri": "https://localhost:8080/",
          "height": 430
        },
        "outputId": "0e71a6b2-f2fa-42f2-fc1d-5b3356526ce7"
      },
      "execution_count": 6,
      "outputs": [
        {
          "output_type": "display_data",
          "data": {
            "text/plain": [
              "<Figure size 640x480 with 1 Axes>"
            ],
            "image/png": "[encoded data removed]"
          },
          "metadata": {}
        }
      ]
    },
    {
      "cell_type": "code",
      "source": [
        "x_train[0]"
      ],
      "metadata": {
        "id": "qCEsVzqDDahS",
        "colab": {
          "base_uri": "https://localhost:8080/",
          "height": 68
        },
        "outputId": "af77d070-bfb5-43a4-8dd4-a4e23b579527"
      },
      "execution_count": 7,
      "outputs": [
        {
          "output_type": "execute_result",
          "data": {
            "text/plain": [
              "array([[  0,   0,   0,   0,   0,   0,   0,   0,   0,   0,   0,   0,   0,\n",
              "          0,   0,   0,   0,   0,   0,   0,   0,   0,   0,   0,   0,   0,\n",
              "          0,   0],\n",
              "       [  0,   0,   0,   0,   0,   0,   0,   0,   0,   0,   0,   0,   0,\n",
              "          0,   0,   0,   0,   0,   0,   0,   0,   0,   0,   0,   0,   0,\n",
              "          0,   0],\n",
              "       [  0,   0,   0,   0,   0,   0,   0,   0,   0,   0,   0,   0,   0,\n",
              "          0,   0,   0,   0,   0,   0,   0,   0,   0,   0,   0,   0,   0,\n",
              "          0,   0],\n",
              "       [  0,   0,   0,   0,   0,   0,   0,   0,   0,   0,   0,   0,   0,\n",
              "          0,   0,   0,   0,   0,   0,   0,   0,   0,   0,   0,   0,   0,\n",
              "          0,   0],\n",
              "       [  0,   0,   0,   0,   0,   0,   0,   0,   0,   0,   0,   0,   0,\n",
              "          0,   0,   0,   0,   0,   0,   0,   0,   0,   0,   0,   0,   0,\n",
              "          0,   0],\n",
              "       [  0,   0,   0,   0,   0,   0,   0,   0,   0,   0,   0,   0,   3,\n",
              "         18,  18,  18, 126, 136, 175,  26, 166, 255, 247, 127,   0,   0,\n",
              "          0,   0],\n",
              "       [  0,   0,   0,   0,   0,   0,   0,   0,  30,  36,  94, 154, 170,\n",
              "        253, 253, 253, 253, 253, 225, 172, 253, 242, 195,  64,   0,   0,\n",
              "          0,   0],\n",
              "       [  0,   0,   0,   0,   0,   0,   0,  49, 238, 253, 253, 253, 253,\n",
              "        253, 253, 253, 253, 251,  93,  82,  82,  56,  39,   0,   0,   0,\n",
              "          0,   0],\n",
              "       [  0,   0,   0,   0,   0,   0,   0,  18, 219, 253, 253, 253, 253,\n",
              "        253, 198, 182, 247, 241,   0,   0,   0,   0,   0,   0,   0,   0,\n",
              "          0,   0],\n",
              "       [  0,   0,   0,   0,   0,   0,   0,   0,  80, 156, 107, 253, 253,\n",
              "        205,  11,   0,  43, 154,   0,   0,   0,   0,   0,   0,   0,   0,\n",
              "          0,   0],\n",
              "       [  0,   0,   0,   0,   0,   0,   0,   0,   0,  14,   1, 154, 253,\n",
              "         90,   0,   0,   0,   0,   0,   0,   0,   0,   0,   0,   0,   0,\n",
              "          0,   0],\n",
              "       [  0,   0,   0,   0,   0,   0,   0,   0,   0,   0,   0, 139, 253,\n",
              "        190,   2,   0,   0,   0,   0,   0,   0,   0,   0,   0,   0,   0,\n",
              "          0,   0],\n",
              "       [  0,   0,   0,   0,   0,   0,   0,   0,   0,   0,   0,  11, 190,\n",
              "        253,  70,   0,   0,   0,   0,   0,   0,   0,   0,   0,   0,   0,\n",
              "          0,   0],\n",
              "       [  0,   0,   0,   0,   0,   0,   0,   0,   0,   0,   0,   0,  35,\n",
              "        241, 225, 160, 108,   1,   0,   0,   0,   0,   0,   0,   0,   0,\n",
              "          0,   0],\n",
              "       [  0,   0,   0,   0,   0,   0,   0,   0,   0,   0,   0,   0,   0,\n",
              "         81, 240, 253, 253, 119,  25,   0,   0,   0,   0,   0,   0,   0,\n",
              "          0,   0],\n",
              "       [  0,   0,   0,   0,   0,   0,   0,   0,   0,   0,   0,   0,   0,\n",
              "          0,  45, 186, 253, 253, 150,  27,   0,   0,   0,   0,   0,   0,\n",
              "          0,   0],\n",
              "       [  0,   0,   0,   0,   0,   0,   0,   0,   0,   0,   0,   0,   0,\n",
              "          0,   0,  16,  93, 252, 253, 187,   0,   0,   0,   0,   0,   0,\n",
              "          0,   0],\n",
              "       [  0,   0,   0,   0,   0,   0,   0,   0,   0,   0,   0,   0,   0,\n",
              "          0,   0,   0,   0, 249, 253, 249,  64,   0,   0,   0,   0,   0,\n",
              "          0,   0],\n",
              "       [  0,   0,   0,   0,   0,   0,   0,   0,   0,   0,   0,   0,   0,\n",
              "          0,  46, 130, 183, 253, 253, 207,   2,   0,   0,   0,   0,   0,\n",
              "          0,   0],\n",
              "       [  0,   0,   0,   0,   0,   0,   0,   0,   0,   0,   0,   0,  39,\n",
              "        148, 229, 253, 253, 253, 250, 182,   0,   0,   0,   0,   0,   0,\n",
              "          0,   0],\n",
              "       [  0,   0,   0,   0,   0,   0,   0,   0,   0,   0,  24, 114, 221,\n",
              "        253, 253, 253, 253, 201,  78,   0,   0,   0,   0,   0,   0,   0,\n",
              "          0,   0],\n",
              "       [  0,   0,   0,   0,   0,   0,   0,   0,  23,  66, 213, 253, 253,\n",
              "        253, 253, 198,  81,   2,   0,   0,   0,   0,   0,   0,   0,   0,\n",
              "          0,   0],\n",
              "       [  0,   0,   0,   0,   0,   0,  18, 171, 219, 253, 253, 253, 253,\n",
              "        195,  80,   9,   0,   0,   0,   0,   0,   0,   0,   0,   0,   0,\n",
              "          0,   0],\n",
              "       [  0,   0,   0,   0,  55, 172, 226, 253, 253, 253, 253, 244, 133,\n",
              "         11,   0,   0,   0,   0,   0,   0,   0,   0,   0,   0,   0,   0,\n",
              "          0,   0],\n",
              "       [  0,   0,   0,   0, 136, 253, 253, 253, 212, 135, 132,  16,   0,\n",
              "          0,   0,   0,   0,   0,   0,   0,   0,   0,   0,   0,   0,   0,\n",
              "          0,   0],\n",
              "       [  0,   0,   0,   0,   0,   0,   0,   0,   0,   0,   0,   0,   0,\n",
              "          0,   0,   0,   0,   0,   0,   0,   0,   0,   0,   0,   0,   0,\n",
              "          0,   0],\n",
              "       [  0,   0,   0,   0,   0,   0,   0,   0,   0,   0,   0,   0,   0,\n",
              "          0,   0,   0,   0,   0,   0,   0,   0,   0,   0,   0,   0,   0,\n",
              "          0,   0],\n",
              "       [  0,   0,   0,   0,   0,   0,   0,   0,   0,   0,   0,   0,   0,\n",
              "          0,   0,   0,   0,   0,   0,   0,   0,   0,   0,   0,   0,   0,\n",
              "          0,   0]], dtype=uint8)"
            ],
            "text/html": [
              "<style>\n",
              "      .ndarray_repr .ndarray_raw_data {\n",
              "        display: none;\n",
              "      }\n",
              "      .ndarray_repr.show_array .ndarray_raw_data {\n",
              "        display: block;\n",
              "      }\n",
              "      .ndarray_repr.show_array .ndarray_image_preview {\n",
              "        display: none;\n",
              "      }\n",
              "      </style>\n",
              "      <div id=\"id-11688aef-51ba-46b1-bb0b-d240b4c10837\" class=\"ndarray_repr\"><pre>ndarray (28, 28) <button style=\"padding: 0 2px;\">show data</button></pre><img src=\"data:image/png;base64,iVBORw0KGgoAAAANSUhEUgAAABwAAAAcCAAAAABXZoBIAAABAElEQVR4nGNgGMyAWUhIqK5jvdSy/9/rGRgYGFhgEnJsVjYCwQwMDAxPJgV+vniQgYGBgREqZ7iXH8r6l/SV4dn7m8gmCt3++/fv37/Htn3/iMW+gDnZf/+e5WbQnoXNNXyMs/5GoQoxwVmf/n9kSGFiwAW49/11wynJoPzx4YIcRlyygR/+/i2XxCWru+vv32nSuGQFYv/83Y3b4p9/fzpAmSyoMnohpiwM1w5h06Q+5enfv39/bcMiJVF09+/fv39P+mFKiTtd/fv3799jgZiBJLT69t+/f/8eDuDEkDJf8+jv379/v7Ryo4qzMDAwMAQGMjBc3/y35wM2V1IfAABFF16Aa0wAOwAAAABJRU5ErkJggg==\" class=\"ndarray_image_preview\" /><pre class=\"ndarray_raw_data\">array([[  0,   0,   0,   0,   0,   0,   0,   0,   0,   0,   0,   0,   0,\n",
              "          0,   0,   0,   0,   0,   0,   0,   0,   0,   0,   0,   0,   0,\n",
              "          0,   0],\n",
              "       [  0,   0,   0,   0,   0,   0,   0,   0,   0,   0,   0,   0,   0,\n",
              "          0,   0,   0,   0,   0,   0,   0,   0,   0,   0,   0,   0,   0,\n",
              "          0,   0],\n",
              "       [  0,   0,   0,   0,   0,   0,   0,   0,   0,   0,   0,   0,   0,\n",
              "          0,   0,   0,   0,   0,   0,   0,   0,   0,   0,   0,   0,   0,\n",
              "          0,   0],\n",
              "       [  0,   0,   0,   0,   0,   0,   0,   0,   0,   0,   0,   0,   0,\n",
              "          0,   0,   0,   0,   0,   0,   0,   0,   0,   0,   0,   0,   0,\n",
              "          0,   0],\n",
              "       [  0,   0,   0,   0,   0,   0,   0,   0,   0,   0,   0,   0,   0,\n",
              "          0,   0,   0,   0,   0,   0,   0,   0,   0,   0,   0,   0,   0,\n",
              "          0,   0],\n",
              "       [  0,   0,   0,   0,   0,   0,   0,   0,   0,   0,   0,   0,   3,\n",
              "         18,  18,  18, 126, 136, 175,  26, 166, 255, 247, 127,   0,   0,\n",
              "          0,   0],\n",
              "       [  0,   0,   0,   0,   0,   0,   0,   0,  30,  36,  94, 154, 170,\n",
              "        253, 253, 253, 253, 253, 225, 172, 253, 242, 195,  64,   0,   0,\n",
              "          0,   0],\n",
              "       [  0,   0,   0,   0,   0,   0,   0,  49, 238, 253, 253, 253, 253,\n",
              "        253, 253, 253, 253, 251,  93,  82,  82,  56,  39,   0,   0,   0,\n",
              "          0,   0],\n",
              "       [  0,   0,   0,   0,   0,   0,   0,  18, 219, 253, 253, 253, 253,\n",
              "        253, 198, 182, 247, 241,   0,   0,   0,   0,   0,   0,   0,   0,\n",
              "          0,   0],\n",
              "       [  0,   0,   0,   0,   0,   0,   0,   0,  80, 156, 107, 253, 253,\n",
              "        205,  11,   0,  43, 154,   0,   0,   0,   0,   0,   0,   0,   0,\n",
              "          0,   0],\n",
              "       [  0,   0,   0,   0,   0,   0,   0,   0,   0,  14,   1, 154, 253,\n",
              "         90,   0,   0,   0,   0,   0,   0,   0,   0,   0,   0,   0,   0,\n",
              "          0,   0],\n",
              "       [  0,   0,   0,   0,   0,   0,   0,   0,   0,   0,   0, 139, 253,\n",
              "        190,   2,   0,   0,   0,   0,   0,   0,   0,   0,   0,   0,   0,\n",
              "          0,   0],\n",
              "       [  0,   0,   0,   0,   0,   0,   0,   0,   0,   0,   0,  11, 190,\n",
              "        253,  70,   0,   0,   0,   0,   0,   0,   0,   0,   0,   0,   0,\n",
              "          0,   0],\n",
              "       [  0,   0,   0,   0,   0,   0,   0,   0,   0,   0,   0,   0,  35,\n",
              "        241, 225, 160, 108,   1,   0,   0,   0,   0,   0,   0,   0,   0,\n",
              "          0,   0],\n",
              "       [  0,   0,   0,   0,   0,   0,   0,   0,   0,   0,   0,   0,   0,\n",
              "         81, 240, 253, 253, 119,  25,   0,   0,   0,   0,   0,   0,   0,\n",
              "          0,   0],\n",
              "       [  0,   0,   0,   0,   0,   0,   0,   0,   0,   0,   0,   0,   0,\n",
              "          0,  45, 186, 253, 253, 150,  27,   0,   0,   0,   0,   0,   0,\n",
              "          0,   0],\n",
              "       [  0,   0,   0,   0,   0,   0,   0,   0,   0,   0,   0,   0,   0,\n",
              "          0,   0,  16,  93, 252, 253, 187,   0,   0,   0,   0,   0,   0,\n",
              "          0,   0],\n",
              "       [  0,   0,   0,   0,   0,   0,   0,   0,   0,   0,   0,   0,   0,\n",
              "          0,   0,   0,   0, 249, 253, 249,  64,   0,   0,   0,   0,   0,\n",
              "          0,   0],\n",
              "       [  0,   0,   0,   0,   0,   0,   0,   0,   0,   0,   0,   0,   0,\n",
              "          0,  46, 130, 183, 253, 253, 207,   2,   0,   0,   0,   0,   0,\n",
              "          0,   0],\n",
              "       [  0,   0,   0,   0,   0,   0,   0,   0,   0,   0,   0,   0,  39,\n",
              "        148, 229, 253, 253, 253, 250, 182,   0,   0,   0,   0,   0,   0,\n",
              "          0,   0],\n",
              "       [  0,   0,   0,   0,   0,   0,   0,   0,   0,   0,  24, 114, 221,\n",
              "        253, 253, 253, 253, 201,  78,   0,   0,   0,   0,   0,   0,   0,\n",
              "          0,   0],\n",
              "       [  0,   0,   0,   0,   0,   0,   0,   0,  23,  66, 213, 253, 253,\n",
              "        253, 253, 198,  81,   2,   0,   0,   0,   0,   0,   0,   0,   0,\n",
              "          0,   0],\n",
              "       [  0,   0,   0,   0,   0,   0,  18, 171, 219, 253, 253, 253, 253,\n",
              "        195,  80,   9,   0,   0,   0,   0,   0,   0,   0,   0,   0,   0,\n",
              "          0,   0],\n",
              "       [  0,   0,   0,   0,  55, 172, 226, 253, 253, 253, 253, 244, 133,\n",
              "         11,   0,   0,   0,   0,   0,   0,   0,   0,   0,   0,   0,   0,\n",
              "          0,   0],\n",
              "       [  0,   0,   0,   0, 136, 253, 253, 253, 212, 135, 132,  16,   0,\n",
              "          0,   0,   0,   0,   0,   0,   0,   0,   0,   0,   0,   0,   0,\n",
              "          0,   0],\n",
              "       [  0,   0,   0,   0,   0,   0,   0,   0,   0,   0,   0,   0,   0,\n",
              "          0,   0,   0,   0,   0,   0,   0,   0,   0,   0,   0,   0,   0,\n",
              "          0,   0],\n",
              "       [  0,   0,   0,   0,   0,   0,   0,   0,   0,   0,   0,   0,   0,\n",
              "          0,   0,   0,   0,   0,   0,   0,   0,   0,   0,   0,   0,   0,\n",
              "          0,   0],\n",
              "       [  0,   0,   0,   0,   0,   0,   0,   0,   0,   0,   0,   0,   0,\n",
              "          0,   0,   0,   0,   0,   0,   0,   0,   0,   0,   0,   0,   0,\n",
              "          0,   0]], dtype=uint8)</pre></div><script>\n",
              "      (() => {\n",
              "      const titles = ['show data', 'hide data'];\n",
              "      let index = 0\n",
              "      document.querySelector('#id-11688aef-51ba-46b1-bb0b-d240b4c10837 button').onclick = (e) => {\n",
              "        document.querySelector('#id-11688aef-51ba-46b1-bb0b-d240b4c10837').classList.toggle('show_array');\n",
              "        index = (++index) % 2;\n",
              "        document.querySelector('#id-11688aef-51ba-46b1-bb0b-d240b4c10837 button').textContent = titles[index];\n",
              "        e.preventDefault();\n",
              "        e.stopPropagation();\n",
              "      }\n",
              "      })();\n",
              "    </script>"
            ]
          },
          "metadata": {},
          "execution_count": 7
        }
      ]
    },
    {
      "cell_type": "code",
      "source": [
        "x_train[0].min()"
      ],
      "metadata": {
        "colab": {
          "base_uri": "https://localhost:8080/"
        },
        "id": "6SdeVOCqDaek",
        "outputId": "e5167859-ce5c-41e2-f3ac-5559c07f0ef0"
      },
      "execution_count": 8,
      "outputs": [
        {
          "output_type": "execute_result",
          "data": {
            "text/plain": [
              "np.uint8(0)"
            ]
          },
          "metadata": {},
          "execution_count": 8
        }
      ]
    },
    {
      "cell_type": "code",
      "source": [
        "x_train[0].max()\n",
        "x_test[0].max()"
      ],
      "metadata": {
        "colab": {
          "base_uri": "https://localhost:8080/"
        },
        "id": "WU8HDSJjDajU",
        "outputId": "bedfb27a-3157-47c4-92c3-18f2f35c2f40"
      },
      "execution_count": 9,
      "outputs": [
        {
          "output_type": "execute_result",
          "data": {
            "text/plain": [
              "np.uint8(255)"
            ]
          },
          "metadata": {},
          "execution_count": 9
        }
      ]
    },
    {
      "cell_type": "code",
      "source": [
        "#normalization\n",
        "x_train = x_train/255\n",
        "x_test = x_test/255"
      ],
      "metadata": {
        "id": "Abn6Qflwyb11"
      },
      "execution_count": 10,
      "outputs": []
    },
    {
      "cell_type": "code",
      "source": [
        "x_train[0].max()"
      ],
      "metadata": {
        "colab": {
          "base_uri": "https://localhost:8080/"
        },
        "id": "RkcQ1_nvyb8f",
        "outputId": "5945f61e-d508-48a1-d9ce-45e0fa1709e6"
      },
      "execution_count": 11,
      "outputs": [
        {
          "output_type": "execute_result",
          "data": {
            "text/plain": [
              "np.float64(1.0)"
            ]
          },
          "metadata": {},
          "execution_count": 11
        }
      ]
    },
    {
      "cell_type": "code",
      "source": [
        " x_test[0].max()"
      ],
      "metadata": {
        "colab": {
          "base_uri": "https://localhost:8080/"
        },
        "id": "QGV_SWNDGBij",
        "outputId": "cc0310a5-0c83-4992-c0ab-5eab08128644"
      },
      "execution_count": 12,
      "outputs": [
        {
          "output_type": "execute_result",
          "data": {
            "text/plain": [
              "np.float64(1.0)"
            ]
          },
          "metadata": {},
          "execution_count": 12
        }
      ]
    },
    {
      "cell_type": "code",
      "source": [
        "x_train[0].shape"
      ],
      "metadata": {
        "colab": {
          "base_uri": "https://localhost:8080/"
        },
        "id": "niCE6nRwGBlD",
        "outputId": "2701d41b-5802-482e-e9db-63f0f2aa99cb"
      },
      "execution_count": 13,
      "outputs": [
        {
          "output_type": "execute_result",
          "data": {
            "text/plain": [
              "(28, 28)"
            ]
          },
          "metadata": {},
          "execution_count": 13
        }
      ]
    },
    {
      "cell_type": "code",
      "source": [
        "#flattening the image\n",
        "28*28"
      ],
      "metadata": {
        "colab": {
          "base_uri": "https://localhost:8080/"
        },
        "id": "reuWyKW8GBpr",
        "outputId": "294a83de-74b9-43b0-a37b-6a23872dd272"
      },
      "execution_count": 14,
      "outputs": [
        {
          "output_type": "execute_result",
          "data": {
            "text/plain": [
              "784"
            ]
          },
          "metadata": {},
          "execution_count": 14
        }
      ]
    },
    {
      "cell_type": "code",
      "source": [
        "#create a neural network\n",
        "\n",
        "# INPUT  - 784\n",
        "# HIDDEN - 532\n",
        "# OUTPUT - 10\n",
        "\n",
        "model = tf.keras.Sequential()\n",
        "model.add(tf.keras.layers.Flatten(input_shape=x_train[0].shape))\n",
        "model.add(tf.keras.layers.Dense(532,activation='relu'))\n",
        "model.add(tf.keras.layers.Dense(10,activation='softmax'))"
      ],
      "metadata": {
        "id": "PSD-niltGBnM",
        "colab": {
          "base_uri": "https://localhost:8080/"
        },
        "outputId": "b2831983-32df-469e-cadd-62d8d1330b77"
      },
      "execution_count": 15,
      "outputs": [
        {
          "output_type": "stream",
          "name": "stderr",
          "text": [
            "/usr/local/lib/python3.11/dist-packages/keras/src/layers/reshaping/flatten.py:37: UserWarning: Do not pass an `input_shape`/`input_dim` argument to a layer. When using Sequential models, prefer using an `Input(shape)` object as the first layer in the model instead.\n",
            "  super().__init__(**kwargs)\n"
          ]
        }
      ]
    },
    {
      "cell_type": "code",
      "source": [
        "model.compile(optimizer='adam' ,loss='sparse_categorical_crossentropy',metrics = ['accuracy'])"
      ],
      "metadata": {
        "id": "sER9bag8GBr_"
      },
      "execution_count": 16,
      "outputs": []
    },
    {
      "cell_type": "code",
      "source": [
        "history =  model.fit(x_train,y_train,epochs = 20)"
      ],
      "metadata": {
        "id": "8_aruYnWGBt8",
        "colab": {
          "base_uri": "https://localhost:8080/"
        },
        "outputId": "37e43284-7c27-42d4-ea69-2fc3a9b1c58a"
      },
      "execution_count": 17,
      "outputs": [
        {
          "output_type": "stream",
          "name": "stdout",
          "text": [
            "Epoch 1/20\n",
            "\u001b[1m1875/1875\u001b[0m \u001b[32m━━━━━━━━━━━━━━━━━━━━\u001b[0m\u001b[37m\u001b[0m \u001b[1m6s\u001b[0m 2ms/step - accuracy: 0.9046 - loss: 0.3318\n",
            "Epoch 2/20\n",
            "\u001b[1m1875/1875\u001b[0m \u001b[32m━━━━━━━━━━━━━━━━━━━━\u001b[0m\u001b[37m\u001b[0m \u001b[1m10s\u001b[0m 3ms/step - accuracy: 0.9754 - loss: 0.0827\n",
            "Epoch 3/20\n",
            "\u001b[1m1875/1875\u001b[0m \u001b[32m━━━━━━━━━━━━━━━━━━━━\u001b[0m\u001b[37m\u001b[0m \u001b[1m4s\u001b[0m 2ms/step - accuracy: 0.9843 - loss: 0.0512\n",
            "Epoch 4/20\n",
            "\u001b[1m1875/1875\u001b[0m \u001b[32m━━━━━━━━━━━━━━━━━━━━\u001b[0m\u001b[37m\u001b[0m \u001b[1m4s\u001b[0m 2ms/step - accuracy: 0.9901 - loss: 0.0318\n",
            "Epoch 5/20\n",
            "\u001b[1m1875/1875\u001b[0m \u001b[32m━━━━━━━━━━━━━━━━━━━━\u001b[0m\u001b[37m\u001b[0m \u001b[1m5s\u001b[0m 2ms/step - accuracy: 0.9926 - loss: 0.0246\n",
            "Epoch 6/20\n",
            "\u001b[1m1875/1875\u001b[0m \u001b[32m━━━━━━━━━━━━━━━━━━━━\u001b[0m\u001b[37m\u001b[0m \u001b[1m5s\u001b[0m 2ms/step - accuracy: 0.9942 - loss: 0.0185\n",
            "Epoch 7/20\n",
            "\u001b[1m1875/1875\u001b[0m \u001b[32m━━━━━━━━━━━━━━━━━━━━\u001b[0m\u001b[37m\u001b[0m \u001b[1m4s\u001b[0m 2ms/step - accuracy: 0.9952 - loss: 0.0145\n",
            "Epoch 8/20\n",
            "\u001b[1m1875/1875\u001b[0m \u001b[32m━━━━━━━━━━━━━━━━━━━━\u001b[0m\u001b[37m\u001b[0m \u001b[1m5s\u001b[0m 2ms/step - accuracy: 0.9970 - loss: 0.0107\n",
            "Epoch 9/20\n",
            "\u001b[1m1875/1875\u001b[0m \u001b[32m━━━━━━━━━━━━━━━━━━━━\u001b[0m\u001b[37m\u001b[0m \u001b[1m4s\u001b[0m 2ms/step - accuracy: 0.9956 - loss: 0.0129\n",
            "Epoch 10/20\n",
            "\u001b[1m1875/1875\u001b[0m \u001b[32m━━━━━━━━━━━━━━━━━━━━\u001b[0m\u001b[37m\u001b[0m \u001b[1m4s\u001b[0m 2ms/step - accuracy: 0.9975 - loss: 0.0074\n",
            "Epoch 11/20\n",
            "\u001b[1m1875/1875\u001b[0m \u001b[32m━━━━━━━━━━━━━━━━━━━━\u001b[0m\u001b[37m\u001b[0m \u001b[1m5s\u001b[0m 2ms/step - accuracy: 0.9979 - loss: 0.0078\n",
            "Epoch 12/20\n",
            "\u001b[1m1875/1875\u001b[0m \u001b[32m━━━━━━━━━━━━━━━━━━━━\u001b[0m\u001b[37m\u001b[0m \u001b[1m5s\u001b[0m 2ms/step - accuracy: 0.9973 - loss: 0.0074\n",
            "Epoch 13/20\n",
            "\u001b[1m1875/1875\u001b[0m \u001b[32m━━━━━━━━━━━━━━━━━━━━\u001b[0m\u001b[37m\u001b[0m \u001b[1m5s\u001b[0m 2ms/step - accuracy: 0.9970 - loss: 0.0086\n",
            "Epoch 14/20\n",
            "\u001b[1m1875/1875\u001b[0m \u001b[32m━━━━━━━━━━━━━━━━━━━━\u001b[0m\u001b[37m\u001b[0m \u001b[1m4s\u001b[0m 2ms/step - accuracy: 0.9975 - loss: 0.0082\n",
            "Epoch 15/20\n",
            "\u001b[1m1875/1875\u001b[0m \u001b[32m━━━━━━━━━━━━━━━━━━━━\u001b[0m\u001b[37m\u001b[0m \u001b[1m5s\u001b[0m 2ms/step - accuracy: 0.9970 - loss: 0.0088\n",
            "Epoch 16/20\n",
            "\u001b[1m1875/1875\u001b[0m \u001b[32m━━━━━━━━━━━━━━━━━━━━\u001b[0m\u001b[37m\u001b[0m \u001b[1m5s\u001b[0m 2ms/step - accuracy: 0.9986 - loss: 0.0047\n",
            "Epoch 17/20\n",
            "\u001b[1m1875/1875\u001b[0m \u001b[32m━━━━━━━━━━━━━━━━━━━━\u001b[0m\u001b[37m\u001b[0m \u001b[1m4s\u001b[0m 2ms/step - accuracy: 0.9980 - loss: 0.0060\n",
            "Epoch 18/20\n",
            "\u001b[1m1875/1875\u001b[0m \u001b[32m━━━━━━━━━━━━━━━━━━━━\u001b[0m\u001b[37m\u001b[0m \u001b[1m4s\u001b[0m 2ms/step - accuracy: 0.9987 - loss: 0.0040\n",
            "Epoch 19/20\n",
            "\u001b[1m1875/1875\u001b[0m \u001b[32m━━━━━━━━━━━━━━━━━━━━\u001b[0m\u001b[37m\u001b[0m \u001b[1m5s\u001b[0m 2ms/step - accuracy: 0.9986 - loss: 0.0041\n",
            "Epoch 20/20\n",
            "\u001b[1m1875/1875\u001b[0m \u001b[32m━━━━━━━━━━━━━━━━━━━━\u001b[0m\u001b[37m\u001b[0m \u001b[1m4s\u001b[0m 2ms/step - accuracy: 0.9981 - loss: 0.0053\n"
          ]
        }
      ]
    },
    {
      "cell_type": "code",
      "source": [
        "model.get_weights()"
      ],
      "metadata": {
        "id": "9Ceolt0WGBvx",
        "colab": {
          "base_uri": "https://localhost:8080/"
        },
        "outputId": "ec4ac8da-326f-4cbe-a33d-cc4c81fe00df"
      },
      "execution_count": 18,
      "outputs": [
        {
          "output_type": "execute_result",
          "data": {
            "text/plain": [
              "[array([[ 0.05479407, -0.0390893 , -0.00102176, ...,  0.05817527,\n",
              "          0.05823793, -0.00792249],\n",
              "        [ 0.00190082,  0.01175239,  0.04444046, ...,  0.01835429,\n",
              "          0.02082931,  0.02231712],\n",
              "        [ 0.06542126,  0.00838072, -0.06498272, ...,  0.01070189,\n",
              "         -0.05098138,  0.03980102],\n",
              "        ...,\n",
              "        [-0.00286904, -0.04211168, -0.03303285, ...,  0.00264461,\n",
              "         -0.01347798, -0.03058099],\n",
              "        [-0.05563979, -0.06006657, -0.05911176, ...,  0.00758862,\n",
              "         -0.0149798 , -0.00641736],\n",
              "        [ 0.01138827, -0.06648947, -0.01349042, ..., -0.02784056,\n",
              "         -0.02759227,  0.00398683]], dtype=float32),\n",
              " array([-8.88587534e-03, -4.59599011e-02, -1.59728676e-01, -1.83696032e-01,\n",
              "         5.07147796e-02, -9.16120596e-03, -3.95321846e-03, -7.15657175e-02,\n",
              "        -3.91613021e-02, -1.58318490e-01, -1.65984593e-02, -6.56161532e-02,\n",
              "         8.22277218e-02, -9.23032407e-03, -5.53497486e-03, -1.37070730e-01,\n",
              "        -1.56490505e-01,  6.02446683e-02, -1.59800038e-01, -2.12719738e-02,\n",
              "         1.73824236e-01,  2.22234055e-02, -1.52473167e-01,  8.71039256e-02,\n",
              "        -7.44218379e-02, -2.74441484e-02, -2.27957115e-01, -1.07750177e-01,\n",
              "        -8.07698593e-02, -6.15464747e-02, -1.15015678e-01, -8.90267566e-02,\n",
              "        -2.15098888e-01, -2.82995142e-02, -1.41364589e-01, -1.20987751e-01,\n",
              "        -8.72746259e-02,  2.05144763e-01, -3.21504511e-02, -5.90142682e-02,\n",
              "        -5.17397420e-04, -1.26146421e-01,  1.19793490e-01,  6.09223507e-02,\n",
              "        -1.92205623e-01, -7.13582933e-02, -1.14736080e-01, -1.39988124e-01,\n",
              "        -1.11398391e-01,  3.32078822e-02, -5.66741899e-02,  1.55157253e-01,\n",
              "        -2.44656615e-02,  8.40978548e-02, -1.56926103e-02,  2.07281448e-02,\n",
              "        -2.02334598e-02,  2.91065290e-03, -1.30471632e-01,  8.05134419e-03,\n",
              "        -1.01613954e-01, -8.40861350e-02, -3.72340471e-01,  3.67594101e-02,\n",
              "        -4.45049666e-02, -7.96800405e-02, -2.51309782e-01, -1.05105087e-01,\n",
              "        -1.68533295e-01, -1.40534416e-02,  4.43085423e-03, -6.75078779e-02,\n",
              "         1.23079933e-01,  2.86198169e-01, -1.19192064e-01,  2.36194693e-02,\n",
              "        -1.85720712e-01, -7.28754401e-02,  1.37318168e-02,  1.69778660e-01,\n",
              "         4.00113277e-02,  1.31575629e-01, -3.36392336e-02, -1.94019750e-02,\n",
              "        -3.71534862e-02, -1.70546826e-02,  2.02907920e-02, -7.90739134e-02,\n",
              "        -1.39351279e-01,  2.09664833e-02, -1.28175840e-01, -2.04540063e-02,\n",
              "         3.03297807e-02, -1.48823261e-01, -7.65843317e-02,  7.54932091e-02,\n",
              "        -1.14004821e-01, -8.84442329e-02,  1.16619088e-01,  6.70518577e-02,\n",
              "        -1.55876607e-01, -7.70967379e-02,  8.51337686e-02, -7.91635960e-02,\n",
              "         5.28267361e-02, -1.71815842e-01, -4.57757078e-02, -1.05026215e-01,\n",
              "         2.96671893e-02,  2.00744361e-01, -5.96849732e-02, -9.99525189e-02,\n",
              "         3.78807969e-02,  3.18230614e-02, -3.34426276e-02,  3.20942998e-02,\n",
              "         3.53696458e-02,  9.95989442e-02,  7.83133600e-03, -8.57158005e-02,\n",
              "        -1.06376186e-01, -7.35642090e-02, -1.24118023e-01,  9.70909297e-02,\n",
              "        -3.64226550e-02, -2.59212349e-02, -2.73923222e-02, -2.79926658e-01,\n",
              "        -3.97383142e-03,  5.21678515e-02, -2.08622247e-01, -8.18807539e-03,\n",
              "         3.29574235e-02, -1.17625773e-01,  3.19589190e-02, -1.75577253e-01,\n",
              "        -4.84585315e-02,  4.30984385e-02,  1.22441068e-01, -1.75108090e-01,\n",
              "        -8.07350054e-02,  2.50326563e-03,  1.10556548e-02, -4.27970998e-02,\n",
              "        -5.44336848e-02,  8.91892686e-02,  8.74885097e-02,  1.91069677e-01,\n",
              "         5.36913164e-02, -9.87693816e-02, -3.89035605e-02, -8.89191777e-02,\n",
              "        -8.17436352e-02,  1.55464813e-01, -4.08561528e-03, -6.62926293e-04,\n",
              "        -1.25181019e-01, -3.95357087e-02, -5.80749251e-02, -5.78736048e-03,\n",
              "        -7.35977516e-02,  1.13212476e-02, -9.31541175e-02, -5.78668714e-03,\n",
              "        -1.38020935e-03,  5.44705838e-02, -3.97127755e-02, -7.40256384e-02,\n",
              "         4.68321331e-03, -2.62985798e-03,  8.74603912e-02,  4.77614067e-02,\n",
              "        -4.90096770e-02,  5.28122820e-02,  4.25303802e-02, -1.27485944e-02,\n",
              "        -1.37168273e-01, -1.23087792e-02, -8.35724249e-02, -1.85510125e-02,\n",
              "         1.19880304e-01,  9.83770490e-02,  1.97377026e-01,  3.99579965e-02,\n",
              "         1.82313576e-01, -3.16165090e-02, -2.05118895e-01, -1.77683920e-01,\n",
              "         1.33045986e-01, -5.02184443e-02,  7.83639494e-03,  2.78316308e-02,\n",
              "        -3.32460068e-02, -1.66074920e-03, -5.06946668e-02, -1.28172874e-01,\n",
              "        -5.63881285e-02,  6.95282072e-02, -1.17589347e-01, -3.95901538e-02,\n",
              "        -8.85624737e-02, -9.95676816e-02,  3.39237531e-03,  9.21930820e-02,\n",
              "        -1.60767391e-01, -2.95971185e-01, -2.36237086e-02,  4.20777462e-02,\n",
              "         8.42053294e-02,  1.57174945e-01, -1.04604572e-01, -1.65386140e-01,\n",
              "        -2.58148815e-02,  7.19255432e-02,  5.22098243e-02, -5.01623489e-02,\n",
              "        -1.47766713e-02, -9.38057527e-02, -3.47672142e-02, -3.30902562e-02,\n",
              "        -2.65725516e-02, -2.49214113e-01,  9.58930328e-02, -1.35721758e-01,\n",
              "         1.03380106e-01,  6.99712103e-03,  2.51863021e-02, -1.28404632e-01,\n",
              "         2.91683152e-02, -1.53333321e-01,  7.31607005e-02,  7.03647584e-02,\n",
              "        -4.31574918e-02,  1.07134441e-02, -2.14993651e-03, -9.60863903e-02,\n",
              "         1.05790598e-02, -7.78990239e-02, -8.59726667e-02, -4.44414318e-02,\n",
              "        -6.52567819e-02, -4.08148132e-02,  3.93383838e-02,  4.84511852e-02,\n",
              "        -4.84469980e-02, -7.10804984e-02, -2.23229956e-02, -8.03257301e-02,\n",
              "        -1.41210109e-01, -1.86898291e-01, -3.14323865e-02, -3.38497572e-02,\n",
              "        -2.76596814e-01,  1.28924161e-01,  2.75255647e-02, -2.40877166e-01,\n",
              "        -3.22066665e-01, -1.20428791e-02, -1.01849427e-02, -6.63082078e-02,\n",
              "        -1.07626483e-01,  2.15421379e-01, -8.01087916e-02, -4.54092175e-02,\n",
              "        -6.55864552e-02,  1.23453185e-01,  6.96851611e-02, -9.16302428e-02,\n",
              "         9.47845075e-03, -1.65203497e-01, -1.61873087e-01, -1.73414007e-01,\n",
              "        -3.55255336e-01, -4.88315821e-02, -4.50688154e-02,  2.61569917e-02,\n",
              "        -1.76157907e-01, -1.08657129e-01, -8.20972472e-02,  6.80739954e-02,\n",
              "        -9.77308601e-02, -1.01074174e-01,  5.87592572e-02,  1.87203065e-01,\n",
              "         4.97928783e-02,  5.36534563e-03,  1.86338484e-01,  4.08569388e-02,\n",
              "        -3.96163128e-02, -1.03556864e-01, -1.76627323e-01,  1.04116313e-01,\n",
              "         1.10803517e-02, -1.25635073e-01,  2.23968383e-02, -7.90957212e-02,\n",
              "        -2.28828639e-02,  2.35458054e-02, -9.95124690e-04,  4.61011380e-03,\n",
              "        -1.16998069e-02,  1.69015751e-04, -5.47204986e-02,  1.45314589e-01,\n",
              "        -1.31573096e-01,  3.56018879e-02, -2.00780258e-01, -5.39655499e-02,\n",
              "        -1.76591054e-01, -1.49962176e-02, -2.33382240e-01,  2.53056765e-01,\n",
              "        -1.31505504e-01, -1.57109782e-01, -1.25970058e-02, -9.34958607e-02,\n",
              "        -2.45198250e-01,  1.69682488e-01,  1.00389430e-02, -2.88208970e-03,\n",
              "        -1.41118951e-02,  1.79002080e-02, -8.31956416e-02, -1.12616066e-02,\n",
              "        -3.66588794e-02, -2.58687735e-02, -5.93732446e-02, -1.35346875e-01,\n",
              "        -8.85496959e-02, -8.58768001e-02,  1.69473665e-03,  8.56727734e-02,\n",
              "        -1.08353794e-01, -8.35564286e-02, -1.22977853e-01, -5.27062230e-02,\n",
              "         3.64474691e-02, -9.68934670e-02, -2.15138104e-02, -5.03893681e-02,\n",
              "         1.95474736e-02, -4.91928756e-02,  8.72845128e-02,  1.69641703e-01,\n",
              "         3.58524453e-03,  4.08134190e-03, -3.88439372e-02, -2.06256434e-01,\n",
              "         2.11213559e-01,  1.08818039e-01,  1.56667680e-01, -3.97861563e-02,\n",
              "        -1.03331089e-03,  1.17958905e-02, -1.06598198e-01, -1.27888575e-01,\n",
              "         6.31015822e-02, -9.44240466e-02, -5.32627068e-02, -1.08235195e-01,\n",
              "        -6.18688464e-02, -1.86265647e-01, -4.71491478e-02,  1.76888078e-01,\n",
              "         1.51041850e-01, -3.81392464e-02, -1.01358831e-01, -7.35311732e-02,\n",
              "         2.00361386e-03,  1.95328631e-02, -8.08214173e-02,  2.02562794e-01,\n",
              "         1.19350068e-01,  1.01472601e-01, -1.39372781e-01, -7.37400725e-02,\n",
              "         5.98999299e-02, -8.90519246e-02, -7.14400783e-02, -9.19883475e-02,\n",
              "        -7.16128722e-02, -6.06551208e-02,  3.28670852e-02, -1.94050491e-01,\n",
              "         1.19530402e-01,  1.66373476e-01,  7.86752030e-02,  9.81474295e-02,\n",
              "        -2.29236662e-01, -6.02743961e-02, -2.17399839e-03,  9.90662873e-02,\n",
              "        -5.81697114e-02, -6.19918145e-02,  1.40444219e-01, -1.24161758e-01,\n",
              "        -1.13629580e-01, -7.61027411e-02,  5.58658456e-03,  5.33402488e-02,\n",
              "        -5.10948710e-02, -6.16475902e-02, -3.34312357e-02,  1.27671557e-02,\n",
              "         1.94100544e-01, -7.44657740e-02, -1.67390127e-02, -7.84758180e-02,\n",
              "        -1.01045541e-01,  4.17113975e-02,  1.13841519e-01, -8.24004486e-02,\n",
              "         9.71698463e-02,  8.78029838e-02, -3.95237170e-02,  3.10480092e-02,\n",
              "        -1.88241839e-01, -4.29448336e-02, -4.18440104e-02, -1.17314979e-01,\n",
              "        -3.92540433e-02, -6.67498931e-02, -8.37708041e-02,  1.50368186e-02,\n",
              "        -1.65235624e-02,  1.21787144e-02,  8.17138255e-02, -1.40945464e-01,\n",
              "        -4.85560782e-02,  2.44735414e-03,  1.04252584e-02, -4.43884113e-04,\n",
              "         1.28670216e-01, -1.06672719e-01, -1.99276358e-02, -2.17414051e-02,\n",
              "        -5.74156567e-02, -9.41936001e-02,  2.06051245e-01,  1.92043737e-01,\n",
              "         1.40994536e-02, -1.10426940e-01,  6.53095320e-02,  2.23862156e-01,\n",
              "        -2.63829201e-01,  3.44679914e-02,  2.60989275e-03, -2.29617674e-02,\n",
              "         1.74714670e-01, -2.13577285e-01,  2.11882278e-01, -1.52980983e-01,\n",
              "        -7.92227387e-02, -9.35041159e-02, -1.13671966e-01, -6.88319951e-02,\n",
              "         6.76493496e-02,  8.82030055e-02, -8.91573727e-02, -6.99205771e-02,\n",
              "        -8.79664049e-02, -3.07596177e-02,  3.61428573e-03, -1.29682213e-01,\n",
              "        -1.26961321e-01,  7.29497746e-02, -3.04109138e-02,  1.43762633e-01,\n",
              "        -1.06537538e-02, -7.56484047e-02, -3.97025459e-02,  1.33578688e-01,\n",
              "         5.84623143e-02, -2.48523932e-02, -2.05216687e-02, -1.52888253e-01,\n",
              "         6.41366653e-03, -1.33933589e-01, -1.17673270e-01, -6.12321682e-03,\n",
              "         8.90230834e-02, -2.57049897e-03,  3.10187265e-02,  5.57676814e-02,\n",
              "        -1.59584641e-01, -1.06263101e-01, -6.18186742e-02,  6.14202693e-02,\n",
              "        -3.74585241e-02, -4.89638783e-02,  6.40368685e-02,  1.56850610e-02,\n",
              "        -2.15965305e-02, -1.89951733e-01, -8.06524605e-02,  1.14652030e-01,\n",
              "         3.63771357e-02,  2.00158477e-01, -7.49758780e-02, -1.38736859e-01,\n",
              "        -8.13700035e-02, -8.16563591e-02,  7.29476288e-02, -7.04213008e-02,\n",
              "         2.83570513e-02,  1.23966858e-01, -8.78785774e-02,  1.71723798e-01,\n",
              "        -1.23482235e-02, -6.94650710e-02,  6.58257976e-02,  9.19331089e-02,\n",
              "        -2.02651937e-02, -1.08212028e-02,  3.79554592e-02,  6.71963766e-02,\n",
              "        -1.31671606e-02, -5.53062856e-02, -4.05265130e-02,  2.14372836e-02,\n",
              "         3.40423658e-02,  1.02187097e-01,  2.65960306e-01,  6.58559725e-02,\n",
              "         2.04370499e-01,  4.25696559e-02,  5.25363460e-02, -2.41753459e-02,\n",
              "         1.22016661e-01, -4.62983325e-02, -5.92733035e-03, -9.18379501e-02],\n",
              "       dtype=float32),\n",
              " array([[-0.29409897,  0.20675164,  0.07376825, ...,  0.14932424,\n",
              "         -0.11888644,  0.04572621],\n",
              "        [ 0.21426693, -0.00550811,  0.3950072 , ...,  0.1373478 ,\n",
              "         -0.29722944,  0.13152967],\n",
              "        [-0.19073404,  0.18154079, -0.08407003, ...,  0.00771805,\n",
              "          0.3200015 , -0.17180909],\n",
              "        ...,\n",
              "        [-0.07935846,  0.13364065,  0.02318545, ..., -0.06950772,\n",
              "         -0.16438885, -0.06687124],\n",
              "        [-0.06288807, -0.0976537 ,  0.03597225, ..., -0.1841587 ,\n",
              "         -0.0220416 ,  0.17344607],\n",
              "        [ 0.10833237, -0.1170873 , -0.02071307, ..., -0.07212442,\n",
              "         -0.00473466, -0.19541544]], dtype=float32),\n",
              " array([-0.02387807, -0.25528768, -0.09076899, -0.08886187,  0.09831946,\n",
              "        -0.09396955, -0.05250252, -0.26816222,  0.5527874 ,  0.04159944],\n",
              "       dtype=float32)]"
            ]
          },
          "metadata": {},
          "execution_count": 18
        }
      ]
    },
    {
      "cell_type": "code",
      "source": [
        "import numpy as np\n",
        "y_pred = np.argmax(model.predict(x_test),axis=1)\n",
        "y_pred"
      ],
      "metadata": {
        "id": "PXIv2lU3GBx2",
        "colab": {
          "base_uri": "https://localhost:8080/"
        },
        "outputId": "79945b53-6ebf-45c8-a4df-7db76eba5730"
      },
      "execution_count": 19,
      "outputs": [
        {
          "output_type": "stream",
          "name": "stdout",
          "text": [
            "\u001b[1m313/313\u001b[0m \u001b[32m━━━━━━━━━━━━━━━━━━━━\u001b[0m\u001b[37m\u001b[0m \u001b[1m1s\u001b[0m 2ms/step\n"
          ]
        },
        {
          "output_type": "execute_result",
          "data": {
            "text/plain": [
              "array([7, 2, 1, ..., 4, 5, 6])"
            ]
          },
          "metadata": {},
          "execution_count": 19
        }
      ]
    },
    {
      "cell_type": "code",
      "source": [
        "y_test"
      ],
      "metadata": {
        "id": "dVqtq1nQyb-a",
        "colab": {
          "base_uri": "https://localhost:8080/"
        },
        "outputId": "1558a77e-0ada-4379-d2e6-44d2e382dacc"
      },
      "execution_count": 20,
      "outputs": [
        {
          "output_type": "execute_result",
          "data": {
            "text/plain": [
              "array([7, 2, 1, ..., 4, 5, 6], dtype=uint8)"
            ]
          },
          "metadata": {},
          "execution_count": 20
        }
      ]
    },
    {
      "cell_type": "code",
      "source": [
        "from sklearn.metrics import accuracy_score\n",
        "accuracy_score(y_test,y_pred)"
      ],
      "metadata": {
        "id": "770-GI7NPx0t",
        "colab": {
          "base_uri": "https://localhost:8080/"
        },
        "outputId": "c1f6aa8f-c40c-4d65-838a-93c627376b65"
      },
      "execution_count": 21,
      "outputs": [
        {
          "output_type": "execute_result",
          "data": {
            "text/plain": [
              "0.9814"
            ]
          },
          "metadata": {},
          "execution_count": 21
        }
      ]
    },
    {
      "cell_type": "code",
      "source": [
        " #saving the neural network model\n",
        "model.save('handwrittenmnist.hdf5')\n",
        "#hierarchial data format version 5"
      ],
      "metadata": {
        "id": "PXbEIAwKPx3O",
        "colab": {
          "base_uri": "https://localhost:8080/"
        },
        "outputId": "4a8fe3f6-3f82-41d9-906f-a7148fe0e914"
      },
      "execution_count": 22,
      "outputs": [
        {
          "output_type": "stream",
          "name": "stderr",
          "text": [
            "WARNING:absl:You are saving your model as an HDF5 file via `model.save()` or `keras.saving.save_model(model)`. This file format is considered legacy. We recommend using instead the native Keras format, e.g. `model.save('my_model.keras')` or `keras.saving.save_model(model, 'my_model.keras')`. \n"
          ]
        }
      ]
    },
    {
      "cell_type": "code",
      "source": [
        "#to load the model and use it some where else\n",
        "#keras.models.load_model('handwrittenmnist.hdf5')"
      ],
      "metadata": {
        "id": "3B1-3lpQU3qS"
      },
      "execution_count": 23,
      "outputs": []
    }
  ]
}